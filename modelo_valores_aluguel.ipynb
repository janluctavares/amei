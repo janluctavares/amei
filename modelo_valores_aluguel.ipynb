{
  "nbformat": 4,
  "nbformat_minor": 0,
  "metadata": {
    "colab": {
      "provenance": []
    },
    "kernelspec": {
      "name": "python3",
      "display_name": "Python 3"
    },
    "language_info": {
      "name": "python"
    }
  },
  "cells": [
    {
      "cell_type": "code",
      "execution_count": null,
      "metadata": {
        "id": "KkM0T37uzrDn"
      },
      "outputs": [],
      "source": [
        "import pandas as pd\n",
        "import numpy as np\n",
        "import sklearn.metrics\n",
        "from sklearn.svm import SVR\n",
        "from xgboost import XGBRegressor\n",
        "from sklearn.model_selection import cross_val_score, GridSearchCV\n",
        "from sklearn.neighbors import KNeighborsRegressor\n",
        "from sklearn.metrics import mean_squared_error, r2_score\n",
        "from sklearn.linear_model import LinearRegression\n",
        "from sklearn.tree import DecisionTreeRegressor\n"
      ]
    },
    {
      "cell_type": "code",
      "source": [
        "data = pd.read_csv('/content/drive/MyDrive/UFRGS/mestrado/aprendizagem de máquina/Trabalho ML/modelos_jesus/data_modelo.csv',sep=';',decimal=',')"
      ],
      "metadata": {
        "id": "NO7sOolaz8zz"
      },
      "execution_count": null,
      "outputs": []
    },
    {
      "cell_type": "code",
      "source": [
        "#pre porcessamento variaveis categoricas\n",
        "\n",
        "data = pd.concat([data,pd.get_dummies(data['LOCATION'])],axis=1)\n",
        "data = pd.concat([data,pd.get_dummies(data['RUA/AV'])],axis=1)"
      ],
      "metadata": {
        "id": "OuJGo44n1Dm6"
      },
      "execution_count": null,
      "outputs": []
    },
    {
      "cell_type": "code",
      "source": [
        "data['LON_STREET'] = data['LON_STREET'].astype(float)\n",
        "data['LAT_STREET'] = data['LAT_STREET'].astype(float)"
      ],
      "metadata": {
        "id": "Jmi1clrajnto"
      },
      "execution_count": null,
      "outputs": []
    },
    {
      "cell_type": "code",
      "source": [
        "x = data[['APTO','CASA', 'AREA_z', 'QUARTO_z', 'GARAGEM_z', 'BANHEIRO_z',\n",
        "       'cluster', 'fator_loc','MOBILIADO','AREA','LAT_STREET',\n",
        "       'LON_STREET',\n",
        "    'ABERTA DOS MORROS',    'AGRONOMIA',    'ALTO PETROPOLIS',    'ALTO TERESOPOLIS',\n",
        "    'AUXILIADORA',    'AZENHA',    'BELA VISTA',    'BELEM NOVO',    'BOA VISTA',\n",
        "    'BOM FIM',    'BOM JESUS',    'CAMAQUA',    'CAMPO NOVO',    'CASCATA',\n",
        "    'CAVALHADA',    'CENTRO HISTORICO',    'CHACARA DAS PEDRAS',    'CHAPEU DO SOL',\n",
        "    'CIDADE BAIXA',    'CORONEL APARICIO BORGES',    'COSTA E SILVA',    'CRISTAL',\n",
        "    'CRISTO REDENTOR',    'ECOVILLE',    'ESPIRITO SANTO',    'FARRAPOS',\n",
        "    'FARROUPILHA',    'FLORESTA',    'GLORIA',    'GUARUJA',    'HIGIENOPOLIS',\n",
        "    'HIPICA',    'HUMAITA',    'INDEPENDENCIA',    'IPANEMA',    'JARDIM BOTANICO',\n",
        "    'JARDIM CARVALHO',    'JARDIM DO SALSO',    'JARDIM EUROPA',    'JARDIM FLORESTA',\n",
        "    'JARDIM ISABEL',    'JARDIM ITU',    'JARDIM ITU SABARA',    'JARDIM LEOPOLDINA',\n",
        "    'JARDIM LINDOIA',    'JARDIM PLANALTO',    'JARDIM SABARA',\n",
        "    'JARDIM SAO PEDRO',    'LOMBA DO PINHEIRO',    'MARIO QUINTANA',\n",
        "    'MEDIANEIRA',    'MENINO DEUS',    'MOINHOS DE VENTO',    'MONT SERRAT',\n",
        "    'MORRO SANTANA',    'NAVEGANTES',    'NONOAI',    'PARQUE SANTA FE',\n",
        "    'PARTENON',    'PASSO DA AREIA',    'PASSO DAS PEDRAS',    'PEDRA REDONDA',\n",
        "    'PETROPOLIS',    'PONTA GROSSA',    'PRAIA DE BELAS',    'PROTASIO ALVES',\n",
        "    'RESTINGA',    'RIO BRANCO',    'RUBEM BERTA',    'SANTA CECILIA',\n",
        "    'SANTA MARIA GORETTI',    'SANTA ROSA DE LIMA',    'SANTA TEREZA',\n",
        "    'SANTANA',    'SANTO ANTONIO',    'SAO GERALDO',    'SAO JOAO',\n",
        "    'SAO SEBASTIAO',    'SARANDI',    'SERRARIA',    'TERESOPOLIS',\n",
        "    'TRES FIGUEIRAS',    'TRISTEZA',    'VILA ASSUNCAO',    'VILA CONCEICAO',\n",
        "    'VILA IPIRANGA',    'VILA JARDIM',    'VILA JOAO PESSOA',    'VILA NOVA',\n",
        "    'VILA SAO JOSE',    'ACESSO',    'ALAMEDA',    'AVENIDA',    'BECO',\n",
        "    'ESTRADA',    'LARGO',    'PRACA',    'RUA',    'TRAVESSA']]"
      ],
      "metadata": {
        "id": "YOLpMQlA1LLK"
      },
      "execution_count": null,
      "outputs": []
    },
    {
      "cell_type": "code",
      "source": [
        "y = data['VALORES']"
      ],
      "metadata": {
        "id": "D6fqF3j-1N4y"
      },
      "execution_count": null,
      "outputs": []
    },
    {
      "cell_type": "code",
      "source": [
        "# x_train, x_test, y_train, y_test = train_test_split(x, y, test_size=0.20,random_state=0)"
      ],
      "metadata": {
        "id": "BOWH-5Rc2leK"
      },
      "execution_count": null,
      "outputs": []
    },
    {
      "cell_type": "code",
      "source": [
        "\n",
        "models = {\n",
        "    'Linear Regression': LinearRegression(),\n",
        "    'SVR': SVR(),\n",
        "    'XGBoost': XGBRegressor(),\n",
        "    'Decision Tree': DecisionTreeRegressor(),\n",
        "    'KNN': KNeighborsRegressor()\n",
        "}"
      ],
      "metadata": {
        "id": "wrkn8PZs1gc8"
      },
      "execution_count": null,
      "outputs": []
    },
    {
      "cell_type": "code",
      "source": [
        "\n",
        "param_grids = {\n",
        "    'Linear Regression': {},\n",
        "    'SVR': {'C': [0.1, 1, 10], 'kernel': ['linear', 'rbf']},\n",
        "    'XGBoost': {'learning_rate': [1, 0.01], 'n_estimators': [100, 200]},\n",
        "    'Decision Tree': {'max_depth': [5, 10, 20]},\n",
        "    'KNN': {'n_neighbors': [3, 5, 7]}\n",
        "}\n"
      ],
      "metadata": {
        "id": "3hSpber-5qSZ"
      },
      "execution_count": null,
      "outputs": []
    },
    {
      "cell_type": "code",
      "source": [
        "# grid_search = GridSearchCV(SVC(), {'C': [0.1, 1, 10], 'kernel': ['linear', 'rbf']}, cv=5, scoring='neg_mean_squared_error')\n",
        "# grid_search.fit(x, y)\n",
        "# grid_search.best_estimator_"
      ],
      "metadata": {
        "id": "u9j2Fuu63fvb"
      },
      "execution_count": null,
      "outputs": []
    },
    {
      "cell_type": "code",
      "source": [
        "import pickle"
      ],
      "metadata": {
        "id": "jfL3QhNfFmQo"
      },
      "execution_count": null,
      "outputs": []
    },
    {
      "cell_type": "code",
      "source": [
        "y.std()"
      ],
      "metadata": {
        "colab": {
          "base_uri": "https://localhost:8080/"
        },
        "id": "5L9K4-OhgTAT",
        "outputId": "455823cc-7086-4421-ad33-1759d05efdb6"
      },
      "execution_count": null,
      "outputs": [
        {
          "output_type": "execute_result",
          "data": {
            "text/plain": [
              "2777.8966533799876"
            ]
          },
          "metadata": {},
          "execution_count": 19
        }
      ]
    },
    {
      "cell_type": "code",
      "source": [
        "#sklearn.metrics.get_scorer_names()\n",
        "# Executar a validação cruzada\n",
        "\n",
        "results = {}\n",
        "best_models = {}\n",
        "\n",
        "for model_name, model in models.items():\n",
        "    param_grid = param_grids[model_name]\n",
        "    grid_search = GridSearchCV(model, param_grid, cv=5, scoring='neg_mean_absolute_error')\n",
        "    grid_search.fit(x, y)\n",
        "\n",
        "    results[model_name] = grid_search.cv_results_\n",
        "    best_models[model_name] = grid_search.best_estimator_\n",
        "    print(model_name)"
      ],
      "metadata": {
        "colab": {
          "base_uri": "https://localhost:8080/"
        },
        "id": "4Vuv1y5j1mUy",
        "outputId": "104331dc-da38-4b28-a4a2-d5578be8df75"
      },
      "execution_count": null,
      "outputs": [
        {
          "output_type": "stream",
          "name": "stdout",
          "text": [
            "Linear Regression\n",
            "SVR\n",
            "XGBoost\n",
            "Decision Tree\n",
            "KNN\n"
          ]
        }
      ]
    },
    {
      "cell_type": "code",
      "source": [
        "\n",
        "\n",
        "save_directory = '/content/drive/MyDrive/UFRGS/mestrado/aprendizagem de máquina/Trabalho ML/modelos_jesus/modelos_pickle/'\n",
        "\n",
        "for model_name, result in results.items():\n",
        "    best_index = np.argmax(result['mean_test_score'])  # Find the index with the highest score\n",
        "    print(f\"{model_name} - Best Parameters: {best_models[model_name].get_params()}\")\n",
        "    print(f\"{model_name} - Best Negative MSE: {result['mean_test_score'][best_index]:.4f}\")\n",
        "\n",
        "        # Save the best model to a file using pickle\n",
        "    filename = f\"{save_directory}best_{model_name}.pkl\"\n",
        "    with open(filename, 'wb') as file:\n",
        "        pickle.dump(best_models[model_name], file)\n",
        "    print(f\"{model_name} - Best model saved to {filename}\")"
      ],
      "metadata": {
        "colab": {
          "base_uri": "https://localhost:8080/"
        },
        "id": "NCmAEWtlDq2e",
        "outputId": "746ff870-bb8e-440b-8071-de7cd796a577"
      },
      "execution_count": null,
      "outputs": [
        {
          "output_type": "stream",
          "name": "stdout",
          "text": [
            "Linear Regression - Best Parameters: {'copy_X': True, 'fit_intercept': True, 'n_jobs': None, 'positive': False}\n",
            "Linear Regression - Best Negative MSE: -16516419946.1280\n",
            "Linear Regression - Best model saved to /content/drive/MyDrive/UFRGS/mestrado/aprendizagem de máquina/Trabalho ML/modelos_jesus/modelos_pickle/best_Linear Regression.pkl\n",
            "SVR - Best Parameters: {'C': 10, 'cache_size': 200, 'coef0': 0.0, 'degree': 3, 'epsilon': 0.1, 'gamma': 'scale', 'kernel': 'linear', 'max_iter': -1, 'shrinking': True, 'tol': 0.001, 'verbose': False}\n",
            "SVR - Best Negative MSE: -862.7681\n",
            "SVR - Best model saved to /content/drive/MyDrive/UFRGS/mestrado/aprendizagem de máquina/Trabalho ML/modelos_jesus/modelos_pickle/best_SVR.pkl\n",
            "XGBoost - Best Parameters: {'objective': 'reg:squarederror', 'base_score': None, 'booster': None, 'callbacks': None, 'colsample_bylevel': None, 'colsample_bynode': None, 'colsample_bytree': None, 'early_stopping_rounds': None, 'enable_categorical': False, 'eval_metric': None, 'feature_types': None, 'gamma': None, 'gpu_id': None, 'grow_policy': None, 'importance_type': None, 'interaction_constraints': None, 'learning_rate': 0.01, 'max_bin': None, 'max_cat_threshold': None, 'max_cat_to_onehot': None, 'max_delta_step': None, 'max_depth': None, 'max_leaves': None, 'min_child_weight': None, 'missing': nan, 'monotone_constraints': None, 'n_estimators': 200, 'n_jobs': None, 'num_parallel_tree': None, 'predictor': None, 'random_state': None, 'reg_alpha': None, 'reg_lambda': None, 'sampling_method': None, 'scale_pos_weight': None, 'subsample': None, 'tree_method': None, 'validate_parameters': None, 'verbosity': None}\n",
            "XGBoost - Best Negative MSE: -889.6666\n",
            "XGBoost - Best model saved to /content/drive/MyDrive/UFRGS/mestrado/aprendizagem de máquina/Trabalho ML/modelos_jesus/modelos_pickle/best_XGBoost.pkl\n",
            "Decision Tree - Best Parameters: {'ccp_alpha': 0.0, 'criterion': 'squared_error', 'max_depth': 10, 'max_features': None, 'max_leaf_nodes': None, 'min_impurity_decrease': 0.0, 'min_samples_leaf': 1, 'min_samples_split': 2, 'min_weight_fraction_leaf': 0.0, 'random_state': None, 'splitter': 'best'}\n",
            "Decision Tree - Best Negative MSE: -984.7902\n",
            "Decision Tree - Best model saved to /content/drive/MyDrive/UFRGS/mestrado/aprendizagem de máquina/Trabalho ML/modelos_jesus/modelos_pickle/best_Decision Tree.pkl\n",
            "KNN - Best Parameters: {'algorithm': 'auto', 'leaf_size': 30, 'metric': 'minkowski', 'metric_params': None, 'n_jobs': None, 'n_neighbors': 7, 'p': 2, 'weights': 'uniform'}\n",
            "KNN - Best Negative MSE: -1042.5286\n",
            "KNN - Best model saved to /content/drive/MyDrive/UFRGS/mestrado/aprendizagem de máquina/Trabalho ML/modelos_jesus/modelos_pickle/best_KNN.pkl\n"
          ]
        }
      ]
    },
    {
      "cell_type": "code",
      "source": [
        "from sklearn.metrics import mean_squared_error, r2_score, mean_absolute_error\n"
      ],
      "metadata": {
        "id": "SXTmJ1NArdBb"
      },
      "execution_count": null,
      "outputs": []
    },
    {
      "cell_type": "code",
      "source": [],
      "metadata": {
        "id": "oum3x-MSrhPK"
      },
      "execution_count": null,
      "outputs": []
    },
    {
      "cell_type": "code",
      "source": [
        "import pickle\n",
        "\n",
        "save_directory = '/content/drive/MyDrive/UFRGS/mestrado/aprendizagem de máquina/Trabalho ML/modelos_jesus/modelos_pickle/'\n",
        "\n",
        "# Dictionary to hold loaded models\n",
        "loaded_models = {}\n",
        "\n",
        "# List of model names\n",
        "model_names = ['Linear Regression', 'SVR', 'XGBoost', 'Decision Tree', 'KNN']\n",
        "\n",
        "# Load the saved models\n",
        "for model_name in model_names:\n",
        "    filename = f\"{save_directory}best_{model_name}.pkl\"\n",
        "    with open(filename, 'rb') as file:\n",
        "        loaded_model = pickle.load(file)\n",
        "        loaded_models[model_name] = loaded_model\n",
        "\n",
        "# Now you can access and use the loaded models as needed\n",
        "# For example:\n",
        "loaded_svr_model = loaded_models['SVR']\n",
        "loaded_xgboost_model = loaded_models['XGBoost']"
      ],
      "metadata": {
        "id": "GkqlyzLZShQ7"
      },
      "execution_count": null,
      "outputs": []
    },
    {
      "cell_type": "markdown",
      "source": [
        "representação shapley"
      ],
      "metadata": {
        "id": "LIClulGacQMt"
      }
    },
    {
      "cell_type": "code",
      "source": [
        "!pip install shap"
      ],
      "metadata": {
        "colab": {
          "base_uri": "https://localhost:8080/"
        },
        "id": "ov8Axz2ecLBT",
        "outputId": "d61738fc-0ca3-4725-a642-6d9eb03fb5d2"
      },
      "execution_count": null,
      "outputs": [
        {
          "output_type": "stream",
          "name": "stdout",
          "text": [
            "Collecting shap\n",
            "  Downloading shap-0.42.1-cp310-cp310-manylinux_2_12_x86_64.manylinux2010_x86_64.manylinux_2_17_x86_64.manylinux2014_x86_64.whl (547 kB)\n",
            "\u001b[2K     \u001b[90m━━━━━━━━━━━━━━━━━━━━━━━━━━━━━━━━━━━━━━━\u001b[0m \u001b[32m547.9/547.9 kB\u001b[0m \u001b[31m4.6 MB/s\u001b[0m eta \u001b[36m0:00:00\u001b[0m\n",
            "\u001b[?25hRequirement already satisfied: numpy in /usr/local/lib/python3.10/dist-packages (from shap) (1.23.5)\n",
            "Requirement already satisfied: scipy in /usr/local/lib/python3.10/dist-packages (from shap) (1.10.1)\n",
            "Requirement already satisfied: scikit-learn in /usr/local/lib/python3.10/dist-packages (from shap) (1.2.2)\n",
            "Requirement already satisfied: pandas in /usr/local/lib/python3.10/dist-packages (from shap) (1.5.3)\n",
            "Requirement already satisfied: tqdm>=4.27.0 in /usr/local/lib/python3.10/dist-packages (from shap) (4.66.1)\n",
            "Requirement already satisfied: packaging>20.9 in /usr/local/lib/python3.10/dist-packages (from shap) (23.1)\n",
            "Collecting slicer==0.0.7 (from shap)\n",
            "  Downloading slicer-0.0.7-py3-none-any.whl (14 kB)\n",
            "Requirement already satisfied: numba in /usr/local/lib/python3.10/dist-packages (from shap) (0.56.4)\n",
            "Requirement already satisfied: cloudpickle in /usr/local/lib/python3.10/dist-packages (from shap) (2.2.1)\n",
            "Requirement already satisfied: llvmlite<0.40,>=0.39.0dev0 in /usr/local/lib/python3.10/dist-packages (from numba->shap) (0.39.1)\n",
            "Requirement already satisfied: setuptools in /usr/local/lib/python3.10/dist-packages (from numba->shap) (67.7.2)\n",
            "Requirement already satisfied: python-dateutil>=2.8.1 in /usr/local/lib/python3.10/dist-packages (from pandas->shap) (2.8.2)\n",
            "Requirement already satisfied: pytz>=2020.1 in /usr/local/lib/python3.10/dist-packages (from pandas->shap) (2023.3)\n",
            "Requirement already satisfied: joblib>=1.1.1 in /usr/local/lib/python3.10/dist-packages (from scikit-learn->shap) (1.3.2)\n",
            "Requirement already satisfied: threadpoolctl>=2.0.0 in /usr/local/lib/python3.10/dist-packages (from scikit-learn->shap) (3.2.0)\n",
            "Requirement already satisfied: six>=1.5 in /usr/local/lib/python3.10/dist-packages (from python-dateutil>=2.8.1->pandas->shap) (1.16.0)\n",
            "Installing collected packages: slicer, shap\n",
            "Successfully installed shap-0.42.1 slicer-0.0.7\n"
          ]
        }
      ]
    },
    {
      "cell_type": "code",
      "source": [
        "best_models['XGBoost']"
      ],
      "metadata": {
        "colab": {
          "base_uri": "https://localhost:8080/",
          "height": 248
        },
        "id": "smfiwsQTa9Z_",
        "outputId": "1c2e43d6-4c74-4711-df5a-3c74411e9810"
      },
      "execution_count": null,
      "outputs": [
        {
          "output_type": "execute_result",
          "data": {
            "text/plain": [
              "XGBRegressor(base_score=None, booster=None, callbacks=None,\n",
              "             colsample_bylevel=None, colsample_bynode=None,\n",
              "             colsample_bytree=None, early_stopping_rounds=None,\n",
              "             enable_categorical=False, eval_metric=None, feature_types=None,\n",
              "             gamma=None, gpu_id=None, grow_policy=None, importance_type=None,\n",
              "             interaction_constraints=None, learning_rate=0.01, max_bin=None,\n",
              "             max_cat_threshold=None, max_cat_to_onehot=None,\n",
              "             max_delta_step=None, max_depth=None, max_leaves=None,\n",
              "             min_child_weight=None, missing=nan, monotone_constraints=None,\n",
              "             n_estimators=200, n_jobs=None, num_parallel_tree=None,\n",
              "             predictor=None, random_state=None, ...)"
            ],
            "text/html": [
              "<style>#sk-container-id-3 {color: black;background-color: white;}#sk-container-id-3 pre{padding: 0;}#sk-container-id-3 div.sk-toggleable {background-color: white;}#sk-container-id-3 label.sk-toggleable__label {cursor: pointer;display: block;width: 100%;margin-bottom: 0;padding: 0.3em;box-sizing: border-box;text-align: center;}#sk-container-id-3 label.sk-toggleable__label-arrow:before {content: \"▸\";float: left;margin-right: 0.25em;color: #696969;}#sk-container-id-3 label.sk-toggleable__label-arrow:hover:before {color: black;}#sk-container-id-3 div.sk-estimator:hover label.sk-toggleable__label-arrow:before {color: black;}#sk-container-id-3 div.sk-toggleable__content {max-height: 0;max-width: 0;overflow: hidden;text-align: left;background-color: #f0f8ff;}#sk-container-id-3 div.sk-toggleable__content pre {margin: 0.2em;color: black;border-radius: 0.25em;background-color: #f0f8ff;}#sk-container-id-3 input.sk-toggleable__control:checked~div.sk-toggleable__content {max-height: 200px;max-width: 100%;overflow: auto;}#sk-container-id-3 input.sk-toggleable__control:checked~label.sk-toggleable__label-arrow:before {content: \"▾\";}#sk-container-id-3 div.sk-estimator input.sk-toggleable__control:checked~label.sk-toggleable__label {background-color: #d4ebff;}#sk-container-id-3 div.sk-label input.sk-toggleable__control:checked~label.sk-toggleable__label {background-color: #d4ebff;}#sk-container-id-3 input.sk-hidden--visually {border: 0;clip: rect(1px 1px 1px 1px);clip: rect(1px, 1px, 1px, 1px);height: 1px;margin: -1px;overflow: hidden;padding: 0;position: absolute;width: 1px;}#sk-container-id-3 div.sk-estimator {font-family: monospace;background-color: #f0f8ff;border: 1px dotted black;border-radius: 0.25em;box-sizing: border-box;margin-bottom: 0.5em;}#sk-container-id-3 div.sk-estimator:hover {background-color: #d4ebff;}#sk-container-id-3 div.sk-parallel-item::after {content: \"\";width: 100%;border-bottom: 1px solid gray;flex-grow: 1;}#sk-container-id-3 div.sk-label:hover label.sk-toggleable__label {background-color: #d4ebff;}#sk-container-id-3 div.sk-serial::before {content: \"\";position: absolute;border-left: 1px solid gray;box-sizing: border-box;top: 0;bottom: 0;left: 50%;z-index: 0;}#sk-container-id-3 div.sk-serial {display: flex;flex-direction: column;align-items: center;background-color: white;padding-right: 0.2em;padding-left: 0.2em;position: relative;}#sk-container-id-3 div.sk-item {position: relative;z-index: 1;}#sk-container-id-3 div.sk-parallel {display: flex;align-items: stretch;justify-content: center;background-color: white;position: relative;}#sk-container-id-3 div.sk-item::before, #sk-container-id-3 div.sk-parallel-item::before {content: \"\";position: absolute;border-left: 1px solid gray;box-sizing: border-box;top: 0;bottom: 0;left: 50%;z-index: -1;}#sk-container-id-3 div.sk-parallel-item {display: flex;flex-direction: column;z-index: 1;position: relative;background-color: white;}#sk-container-id-3 div.sk-parallel-item:first-child::after {align-self: flex-end;width: 50%;}#sk-container-id-3 div.sk-parallel-item:last-child::after {align-self: flex-start;width: 50%;}#sk-container-id-3 div.sk-parallel-item:only-child::after {width: 0;}#sk-container-id-3 div.sk-dashed-wrapped {border: 1px dashed gray;margin: 0 0.4em 0.5em 0.4em;box-sizing: border-box;padding-bottom: 0.4em;background-color: white;}#sk-container-id-3 div.sk-label label {font-family: monospace;font-weight: bold;display: inline-block;line-height: 1.2em;}#sk-container-id-3 div.sk-label-container {text-align: center;}#sk-container-id-3 div.sk-container {/* jupyter's `normalize.less` sets `[hidden] { display: none; }` but bootstrap.min.css set `[hidden] { display: none !important; }` so we also need the `!important` here to be able to override the default hidden behavior on the sphinx rendered scikit-learn.org. See: https://github.com/scikit-learn/scikit-learn/issues/21755 */display: inline-block !important;position: relative;}#sk-container-id-3 div.sk-text-repr-fallback {display: none;}</style><div id=\"sk-container-id-3\" class=\"sk-top-container\"><div class=\"sk-text-repr-fallback\"><pre>XGBRegressor(base_score=None, booster=None, callbacks=None,\n",
              "             colsample_bylevel=None, colsample_bynode=None,\n",
              "             colsample_bytree=None, early_stopping_rounds=None,\n",
              "             enable_categorical=False, eval_metric=None, feature_types=None,\n",
              "             gamma=None, gpu_id=None, grow_policy=None, importance_type=None,\n",
              "             interaction_constraints=None, learning_rate=0.01, max_bin=None,\n",
              "             max_cat_threshold=None, max_cat_to_onehot=None,\n",
              "             max_delta_step=None, max_depth=None, max_leaves=None,\n",
              "             min_child_weight=None, missing=nan, monotone_constraints=None,\n",
              "             n_estimators=200, n_jobs=None, num_parallel_tree=None,\n",
              "             predictor=None, random_state=None, ...)</pre><b>In a Jupyter environment, please rerun this cell to show the HTML representation or trust the notebook. <br />On GitHub, the HTML representation is unable to render, please try loading this page with nbviewer.org.</b></div><div class=\"sk-container\" hidden><div class=\"sk-item\"><div class=\"sk-estimator sk-toggleable\"><input class=\"sk-toggleable__control sk-hidden--visually\" id=\"sk-estimator-id-3\" type=\"checkbox\" checked><label for=\"sk-estimator-id-3\" class=\"sk-toggleable__label sk-toggleable__label-arrow\">XGBRegressor</label><div class=\"sk-toggleable__content\"><pre>XGBRegressor(base_score=None, booster=None, callbacks=None,\n",
              "             colsample_bylevel=None, colsample_bynode=None,\n",
              "             colsample_bytree=None, early_stopping_rounds=None,\n",
              "             enable_categorical=False, eval_metric=None, feature_types=None,\n",
              "             gamma=None, gpu_id=None, grow_policy=None, importance_type=None,\n",
              "             interaction_constraints=None, learning_rate=0.01, max_bin=None,\n",
              "             max_cat_threshold=None, max_cat_to_onehot=None,\n",
              "             max_delta_step=None, max_depth=None, max_leaves=None,\n",
              "             min_child_weight=None, missing=nan, monotone_constraints=None,\n",
              "             n_estimators=200, n_jobs=None, num_parallel_tree=None,\n",
              "             predictor=None, random_state=None, ...)</pre></div></div></div></div></div>"
            ]
          },
          "metadata": {},
          "execution_count": 46
        }
      ]
    },
    {
      "cell_type": "code",
      "source": [
        "import shap"
      ],
      "metadata": {
        "id": "Etx2A60Bdrmw"
      },
      "execution_count": null,
      "outputs": []
    },
    {
      "cell_type": "code",
      "source": [
        "data.head()"
      ],
      "metadata": {
        "colab": {
          "base_uri": "https://localhost:8080/",
          "height": 380
        },
        "id": "WcSfswjL4vrE",
        "outputId": "4187771c-5b9d-49dd-9ca7-37349d64522d"
      },
      "execution_count": null,
      "outputs": [
        {
          "output_type": "execute_result",
          "data": {
            "text/plain": [
              "   Unnamed: 0         TIPO  OFERTA  VALORES  VALORES_PROMO   RUA/AV  \\\n",
              "0           0  APARTAMENTO  ALUGAR     2943           2200  AVENIDA   \n",
              "1           1  APARTAMENTO  ALUGAR     3098           2490      RUA   \n",
              "2           2  APARTAMENTO  ALUGAR     4400           3960      RUA   \n",
              "3           3  APARTAMENTO  ALUGAR     1500           1350      RUA   \n",
              "4           4  APARTAMENTO  ALUGAR     6391           4800  AVENIDA   \n",
              "\n",
              "               LOGRADOURO         LOCATION          CITY STATE  ...  \\\n",
              "0          PROTASIO ALVES       PETROPOLIS  PORTO ALEGRE    RS  ...   \n",
              "1  DOUTOR ARMANDO BARBEDO         TRISTEZA  PORTO ALEGRE    RS  ...   \n",
              "2        MACHADO DE ASSIS  JARDIM BOTANICO  PORTO ALEGRE    RS  ...   \n",
              "3        DOMINGOS MARTINS  CRISTO REDENTOR  PORTO ALEGRE    RS  ...   \n",
              "4                 LAGEADO       PETROPOLIS  PORTO ALEGRE    RS  ...   \n",
              "\n",
              "   VILA SAO JOSE  ACESSO  ALAMEDA  AVENIDA  BECO  ESTRADA  LARGO  PRACA  RUA  \\\n",
              "0              0       0        0        1     0        0      0      0    0   \n",
              "1              0       0        0        0     0        0      0      0    1   \n",
              "2              0       0        0        0     0        0      0      0    1   \n",
              "3              0       0        0        0     0        0      0      0    1   \n",
              "4              0       0        0        1     0        0      0      0    0   \n",
              "\n",
              "  TRAVESSA  \n",
              "0        0  \n",
              "1        0  \n",
              "2        0  \n",
              "3        0  \n",
              "4        0  \n",
              "\n",
              "[5 rows x 133 columns]"
            ],
            "text/html": [
              "\n",
              "  <div id=\"df-de5abbb2-770d-44d8-ac7c-f310af99cb37\" class=\"colab-df-container\">\n",
              "    <div>\n",
              "<style scoped>\n",
              "    .dataframe tbody tr th:only-of-type {\n",
              "        vertical-align: middle;\n",
              "    }\n",
              "\n",
              "    .dataframe tbody tr th {\n",
              "        vertical-align: top;\n",
              "    }\n",
              "\n",
              "    .dataframe thead th {\n",
              "        text-align: right;\n",
              "    }\n",
              "</style>\n",
              "<table border=\"1\" class=\"dataframe\">\n",
              "  <thead>\n",
              "    <tr style=\"text-align: right;\">\n",
              "      <th></th>\n",
              "      <th>Unnamed: 0</th>\n",
              "      <th>TIPO</th>\n",
              "      <th>OFERTA</th>\n",
              "      <th>VALORES</th>\n",
              "      <th>VALORES_PROMO</th>\n",
              "      <th>RUA/AV</th>\n",
              "      <th>LOGRADOURO</th>\n",
              "      <th>LOCATION</th>\n",
              "      <th>CITY</th>\n",
              "      <th>STATE</th>\n",
              "      <th>...</th>\n",
              "      <th>VILA SAO JOSE</th>\n",
              "      <th>ACESSO</th>\n",
              "      <th>ALAMEDA</th>\n",
              "      <th>AVENIDA</th>\n",
              "      <th>BECO</th>\n",
              "      <th>ESTRADA</th>\n",
              "      <th>LARGO</th>\n",
              "      <th>PRACA</th>\n",
              "      <th>RUA</th>\n",
              "      <th>TRAVESSA</th>\n",
              "    </tr>\n",
              "  </thead>\n",
              "  <tbody>\n",
              "    <tr>\n",
              "      <th>0</th>\n",
              "      <td>0</td>\n",
              "      <td>APARTAMENTO</td>\n",
              "      <td>ALUGAR</td>\n",
              "      <td>2943</td>\n",
              "      <td>2200</td>\n",
              "      <td>AVENIDA</td>\n",
              "      <td>PROTASIO ALVES</td>\n",
              "      <td>PETROPOLIS</td>\n",
              "      <td>PORTO ALEGRE</td>\n",
              "      <td>RS</td>\n",
              "      <td>...</td>\n",
              "      <td>0</td>\n",
              "      <td>0</td>\n",
              "      <td>0</td>\n",
              "      <td>1</td>\n",
              "      <td>0</td>\n",
              "      <td>0</td>\n",
              "      <td>0</td>\n",
              "      <td>0</td>\n",
              "      <td>0</td>\n",
              "      <td>0</td>\n",
              "    </tr>\n",
              "    <tr>\n",
              "      <th>1</th>\n",
              "      <td>1</td>\n",
              "      <td>APARTAMENTO</td>\n",
              "      <td>ALUGAR</td>\n",
              "      <td>3098</td>\n",
              "      <td>2490</td>\n",
              "      <td>RUA</td>\n",
              "      <td>DOUTOR ARMANDO BARBEDO</td>\n",
              "      <td>TRISTEZA</td>\n",
              "      <td>PORTO ALEGRE</td>\n",
              "      <td>RS</td>\n",
              "      <td>...</td>\n",
              "      <td>0</td>\n",
              "      <td>0</td>\n",
              "      <td>0</td>\n",
              "      <td>0</td>\n",
              "      <td>0</td>\n",
              "      <td>0</td>\n",
              "      <td>0</td>\n",
              "      <td>0</td>\n",
              "      <td>1</td>\n",
              "      <td>0</td>\n",
              "    </tr>\n",
              "    <tr>\n",
              "      <th>2</th>\n",
              "      <td>2</td>\n",
              "      <td>APARTAMENTO</td>\n",
              "      <td>ALUGAR</td>\n",
              "      <td>4400</td>\n",
              "      <td>3960</td>\n",
              "      <td>RUA</td>\n",
              "      <td>MACHADO DE ASSIS</td>\n",
              "      <td>JARDIM BOTANICO</td>\n",
              "      <td>PORTO ALEGRE</td>\n",
              "      <td>RS</td>\n",
              "      <td>...</td>\n",
              "      <td>0</td>\n",
              "      <td>0</td>\n",
              "      <td>0</td>\n",
              "      <td>0</td>\n",
              "      <td>0</td>\n",
              "      <td>0</td>\n",
              "      <td>0</td>\n",
              "      <td>0</td>\n",
              "      <td>1</td>\n",
              "      <td>0</td>\n",
              "    </tr>\n",
              "    <tr>\n",
              "      <th>3</th>\n",
              "      <td>3</td>\n",
              "      <td>APARTAMENTO</td>\n",
              "      <td>ALUGAR</td>\n",
              "      <td>1500</td>\n",
              "      <td>1350</td>\n",
              "      <td>RUA</td>\n",
              "      <td>DOMINGOS MARTINS</td>\n",
              "      <td>CRISTO REDENTOR</td>\n",
              "      <td>PORTO ALEGRE</td>\n",
              "      <td>RS</td>\n",
              "      <td>...</td>\n",
              "      <td>0</td>\n",
              "      <td>0</td>\n",
              "      <td>0</td>\n",
              "      <td>0</td>\n",
              "      <td>0</td>\n",
              "      <td>0</td>\n",
              "      <td>0</td>\n",
              "      <td>0</td>\n",
              "      <td>1</td>\n",
              "      <td>0</td>\n",
              "    </tr>\n",
              "    <tr>\n",
              "      <th>4</th>\n",
              "      <td>4</td>\n",
              "      <td>APARTAMENTO</td>\n",
              "      <td>ALUGAR</td>\n",
              "      <td>6391</td>\n",
              "      <td>4800</td>\n",
              "      <td>AVENIDA</td>\n",
              "      <td>LAGEADO</td>\n",
              "      <td>PETROPOLIS</td>\n",
              "      <td>PORTO ALEGRE</td>\n",
              "      <td>RS</td>\n",
              "      <td>...</td>\n",
              "      <td>0</td>\n",
              "      <td>0</td>\n",
              "      <td>0</td>\n",
              "      <td>1</td>\n",
              "      <td>0</td>\n",
              "      <td>0</td>\n",
              "      <td>0</td>\n",
              "      <td>0</td>\n",
              "      <td>0</td>\n",
              "      <td>0</td>\n",
              "    </tr>\n",
              "  </tbody>\n",
              "</table>\n",
              "<p>5 rows × 133 columns</p>\n",
              "</div>\n",
              "    <div class=\"colab-df-buttons\">\n",
              "\n",
              "  <div class=\"colab-df-container\">\n",
              "    <button class=\"colab-df-convert\" onclick=\"convertToInteractive('df-de5abbb2-770d-44d8-ac7c-f310af99cb37')\"\n",
              "            title=\"Convert this dataframe to an interactive table.\"\n",
              "            style=\"display:none;\">\n",
              "\n",
              "  <svg xmlns=\"http://www.w3.org/2000/svg\" height=\"24px\" viewBox=\"0 -960 960 960\">\n",
              "    <path d=\"M120-120v-720h720v720H120Zm60-500h600v-160H180v160Zm220 220h160v-160H400v160Zm0 220h160v-160H400v160ZM180-400h160v-160H180v160Zm440 0h160v-160H620v160ZM180-180h160v-160H180v160Zm440 0h160v-160H620v160Z\"/>\n",
              "  </svg>\n",
              "    </button>\n",
              "\n",
              "  <style>\n",
              "    .colab-df-container {\n",
              "      display:flex;\n",
              "      gap: 12px;\n",
              "    }\n",
              "\n",
              "    .colab-df-convert {\n",
              "      background-color: #E8F0FE;\n",
              "      border: none;\n",
              "      border-radius: 50%;\n",
              "      cursor: pointer;\n",
              "      display: none;\n",
              "      fill: #1967D2;\n",
              "      height: 32px;\n",
              "      padding: 0 0 0 0;\n",
              "      width: 32px;\n",
              "    }\n",
              "\n",
              "    .colab-df-convert:hover {\n",
              "      background-color: #E2EBFA;\n",
              "      box-shadow: 0px 1px 2px rgba(60, 64, 67, 0.3), 0px 1px 3px 1px rgba(60, 64, 67, 0.15);\n",
              "      fill: #174EA6;\n",
              "    }\n",
              "\n",
              "    .colab-df-buttons div {\n",
              "      margin-bottom: 4px;\n",
              "    }\n",
              "\n",
              "    [theme=dark] .colab-df-convert {\n",
              "      background-color: #3B4455;\n",
              "      fill: #D2E3FC;\n",
              "    }\n",
              "\n",
              "    [theme=dark] .colab-df-convert:hover {\n",
              "      background-color: #434B5C;\n",
              "      box-shadow: 0px 1px 3px 1px rgba(0, 0, 0, 0.15);\n",
              "      filter: drop-shadow(0px 1px 2px rgba(0, 0, 0, 0.3));\n",
              "      fill: #FFFFFF;\n",
              "    }\n",
              "  </style>\n",
              "\n",
              "    <script>\n",
              "      const buttonEl =\n",
              "        document.querySelector('#df-de5abbb2-770d-44d8-ac7c-f310af99cb37 button.colab-df-convert');\n",
              "      buttonEl.style.display =\n",
              "        google.colab.kernel.accessAllowed ? 'block' : 'none';\n",
              "\n",
              "      async function convertToInteractive(key) {\n",
              "        const element = document.querySelector('#df-de5abbb2-770d-44d8-ac7c-f310af99cb37');\n",
              "        const dataTable =\n",
              "          await google.colab.kernel.invokeFunction('convertToInteractive',\n",
              "                                                    [key], {});\n",
              "        if (!dataTable) return;\n",
              "\n",
              "        const docLinkHtml = 'Like what you see? Visit the ' +\n",
              "          '<a target=\"_blank\" href=https://colab.research.google.com/notebooks/data_table.ipynb>data table notebook</a>'\n",
              "          + ' to learn more about interactive tables.';\n",
              "        element.innerHTML = '';\n",
              "        dataTable['output_type'] = 'display_data';\n",
              "        await google.colab.output.renderOutput(dataTable, element);\n",
              "        const docLink = document.createElement('div');\n",
              "        docLink.innerHTML = docLinkHtml;\n",
              "        element.appendChild(docLink);\n",
              "      }\n",
              "    </script>\n",
              "  </div>\n",
              "\n",
              "\n",
              "<div id=\"df-c76218cb-3909-455a-bf89-d8b9cd58a5f3\">\n",
              "  <button class=\"colab-df-quickchart\" onclick=\"quickchart('df-c76218cb-3909-455a-bf89-d8b9cd58a5f3')\"\n",
              "            title=\"Suggest charts.\"\n",
              "            style=\"display:none;\">\n",
              "\n",
              "<svg xmlns=\"http://www.w3.org/2000/svg\" height=\"24px\"viewBox=\"0 0 24 24\"\n",
              "     width=\"24px\">\n",
              "    <g>\n",
              "        <path d=\"M19 3H5c-1.1 0-2 .9-2 2v14c0 1.1.9 2 2 2h14c1.1 0 2-.9 2-2V5c0-1.1-.9-2-2-2zM9 17H7v-7h2v7zm4 0h-2V7h2v10zm4 0h-2v-4h2v4z\"/>\n",
              "    </g>\n",
              "</svg>\n",
              "  </button>\n",
              "\n",
              "<style>\n",
              "  .colab-df-quickchart {\n",
              "    background-color: #E8F0FE;\n",
              "    border: none;\n",
              "    border-radius: 50%;\n",
              "    cursor: pointer;\n",
              "    display: none;\n",
              "    fill: #1967D2;\n",
              "    height: 32px;\n",
              "    padding: 0 0 0 0;\n",
              "    width: 32px;\n",
              "  }\n",
              "\n",
              "  .colab-df-quickchart:hover {\n",
              "    background-color: #E2EBFA;\n",
              "    box-shadow: 0px 1px 2px rgba(60, 64, 67, 0.3), 0px 1px 3px 1px rgba(60, 64, 67, 0.15);\n",
              "    fill: #174EA6;\n",
              "  }\n",
              "\n",
              "  [theme=dark] .colab-df-quickchart {\n",
              "    background-color: #3B4455;\n",
              "    fill: #D2E3FC;\n",
              "  }\n",
              "\n",
              "  [theme=dark] .colab-df-quickchart:hover {\n",
              "    background-color: #434B5C;\n",
              "    box-shadow: 0px 1px 3px 1px rgba(0, 0, 0, 0.15);\n",
              "    filter: drop-shadow(0px 1px 2px rgba(0, 0, 0, 0.3));\n",
              "    fill: #FFFFFF;\n",
              "  }\n",
              "</style>\n",
              "\n",
              "  <script>\n",
              "    async function quickchart(key) {\n",
              "      const charts = await google.colab.kernel.invokeFunction(\n",
              "          'suggestCharts', [key], {});\n",
              "    }\n",
              "    (() => {\n",
              "      let quickchartButtonEl =\n",
              "        document.querySelector('#df-c76218cb-3909-455a-bf89-d8b9cd58a5f3 button');\n",
              "      quickchartButtonEl.style.display =\n",
              "        google.colab.kernel.accessAllowed ? 'block' : 'none';\n",
              "    })();\n",
              "  </script>\n",
              "</div>\n",
              "    </div>\n",
              "  </div>\n"
            ]
          },
          "metadata": {},
          "execution_count": 49
        },
        {
          "output_type": "stream",
          "name": "stdout",
          "text": [
            "Warning: Total number of columns (133) exceeds max_columns (20) limiting to first (20) columns.\n"
          ]
        }
      ]
    },
    {
      "cell_type": "code",
      "source": [
        "x.head()"
      ],
      "metadata": {
        "colab": {
          "base_uri": "https://localhost:8080/",
          "height": 290
        },
        "id": "Yc3xvQY5pbyb",
        "outputId": "08300ef6-eb04-46b1-8ea0-de8c491dea6d"
      },
      "execution_count": null,
      "outputs": [
        {
          "output_type": "execute_result",
          "data": {
            "text/plain": [
              "   APTO  CASA    AREA_z  QUARTO_z  GARAGEM_z  BANHEIRO_z  MOBILIADO_z  \\\n",
              "0     1     0 -0.207339  0.125337   1.513695   -0.549706    -0.367203   \n",
              "1     1     0 -0.512790 -1.052830   0.381953   -0.549706    -0.367203   \n",
              "2     1     0  0.031709  0.125337   1.513695   -0.549706    -0.367203   \n",
              "3     1     0 -0.300303 -1.052830  -0.749790   -0.549706    -0.367203   \n",
              "4     1     0 -0.472949 -1.052830   0.381953    0.583803    -0.367203   \n",
              "\n",
              "   cluster  fator_loc  MOBILIADO  ...  VILA SAO JOSE  ACESSO  ALAMEDA  \\\n",
              "0        2  10.399459          0  ...              0       0        0   \n",
              "1        1   3.565638          0  ...              0       0        0   \n",
              "2        2   6.528515          0  ...              0       0        0   \n",
              "3        1   7.963383          0  ...              0       0        0   \n",
              "4        1  11.282042          0  ...              0       0        0   \n",
              "\n",
              "   AVENIDA  BECO  ESTRADA  LARGO  PRACA  RUA  TRAVESSA  \n",
              "0        1     0        0      0      0    0         0  \n",
              "1        0     0        0      0      0    1         0  \n",
              "2        0     0        0      0      0    1         0  \n",
              "3        0     0        0      0      0    1         0  \n",
              "4        1     0        0      0      0    0         0  \n",
              "\n",
              "[5 rows x 112 columns]"
            ],
            "text/html": [
              "\n",
              "  <div id=\"df-d7fde1ae-d413-4299-ad07-3ed5dbf3f476\" class=\"colab-df-container\">\n",
              "    <div>\n",
              "<style scoped>\n",
              "    .dataframe tbody tr th:only-of-type {\n",
              "        vertical-align: middle;\n",
              "    }\n",
              "\n",
              "    .dataframe tbody tr th {\n",
              "        vertical-align: top;\n",
              "    }\n",
              "\n",
              "    .dataframe thead th {\n",
              "        text-align: right;\n",
              "    }\n",
              "</style>\n",
              "<table border=\"1\" class=\"dataframe\">\n",
              "  <thead>\n",
              "    <tr style=\"text-align: right;\">\n",
              "      <th></th>\n",
              "      <th>APTO</th>\n",
              "      <th>CASA</th>\n",
              "      <th>AREA_z</th>\n",
              "      <th>QUARTO_z</th>\n",
              "      <th>GARAGEM_z</th>\n",
              "      <th>BANHEIRO_z</th>\n",
              "      <th>MOBILIADO_z</th>\n",
              "      <th>cluster</th>\n",
              "      <th>fator_loc</th>\n",
              "      <th>MOBILIADO</th>\n",
              "      <th>...</th>\n",
              "      <th>VILA SAO JOSE</th>\n",
              "      <th>ACESSO</th>\n",
              "      <th>ALAMEDA</th>\n",
              "      <th>AVENIDA</th>\n",
              "      <th>BECO</th>\n",
              "      <th>ESTRADA</th>\n",
              "      <th>LARGO</th>\n",
              "      <th>PRACA</th>\n",
              "      <th>RUA</th>\n",
              "      <th>TRAVESSA</th>\n",
              "    </tr>\n",
              "  </thead>\n",
              "  <tbody>\n",
              "    <tr>\n",
              "      <th>0</th>\n",
              "      <td>1</td>\n",
              "      <td>0</td>\n",
              "      <td>-0.207339</td>\n",
              "      <td>0.125337</td>\n",
              "      <td>1.513695</td>\n",
              "      <td>-0.549706</td>\n",
              "      <td>-0.367203</td>\n",
              "      <td>2</td>\n",
              "      <td>10.399459</td>\n",
              "      <td>0</td>\n",
              "      <td>...</td>\n",
              "      <td>0</td>\n",
              "      <td>0</td>\n",
              "      <td>0</td>\n",
              "      <td>1</td>\n",
              "      <td>0</td>\n",
              "      <td>0</td>\n",
              "      <td>0</td>\n",
              "      <td>0</td>\n",
              "      <td>0</td>\n",
              "      <td>0</td>\n",
              "    </tr>\n",
              "    <tr>\n",
              "      <th>1</th>\n",
              "      <td>1</td>\n",
              "      <td>0</td>\n",
              "      <td>-0.512790</td>\n",
              "      <td>-1.052830</td>\n",
              "      <td>0.381953</td>\n",
              "      <td>-0.549706</td>\n",
              "      <td>-0.367203</td>\n",
              "      <td>1</td>\n",
              "      <td>3.565638</td>\n",
              "      <td>0</td>\n",
              "      <td>...</td>\n",
              "      <td>0</td>\n",
              "      <td>0</td>\n",
              "      <td>0</td>\n",
              "      <td>0</td>\n",
              "      <td>0</td>\n",
              "      <td>0</td>\n",
              "      <td>0</td>\n",
              "      <td>0</td>\n",
              "      <td>1</td>\n",
              "      <td>0</td>\n",
              "    </tr>\n",
              "    <tr>\n",
              "      <th>2</th>\n",
              "      <td>1</td>\n",
              "      <td>0</td>\n",
              "      <td>0.031709</td>\n",
              "      <td>0.125337</td>\n",
              "      <td>1.513695</td>\n",
              "      <td>-0.549706</td>\n",
              "      <td>-0.367203</td>\n",
              "      <td>2</td>\n",
              "      <td>6.528515</td>\n",
              "      <td>0</td>\n",
              "      <td>...</td>\n",
              "      <td>0</td>\n",
              "      <td>0</td>\n",
              "      <td>0</td>\n",
              "      <td>0</td>\n",
              "      <td>0</td>\n",
              "      <td>0</td>\n",
              "      <td>0</td>\n",
              "      <td>0</td>\n",
              "      <td>1</td>\n",
              "      <td>0</td>\n",
              "    </tr>\n",
              "    <tr>\n",
              "      <th>3</th>\n",
              "      <td>1</td>\n",
              "      <td>0</td>\n",
              "      <td>-0.300303</td>\n",
              "      <td>-1.052830</td>\n",
              "      <td>-0.749790</td>\n",
              "      <td>-0.549706</td>\n",
              "      <td>-0.367203</td>\n",
              "      <td>1</td>\n",
              "      <td>7.963383</td>\n",
              "      <td>0</td>\n",
              "      <td>...</td>\n",
              "      <td>0</td>\n",
              "      <td>0</td>\n",
              "      <td>0</td>\n",
              "      <td>0</td>\n",
              "      <td>0</td>\n",
              "      <td>0</td>\n",
              "      <td>0</td>\n",
              "      <td>0</td>\n",
              "      <td>1</td>\n",
              "      <td>0</td>\n",
              "    </tr>\n",
              "    <tr>\n",
              "      <th>4</th>\n",
              "      <td>1</td>\n",
              "      <td>0</td>\n",
              "      <td>-0.472949</td>\n",
              "      <td>-1.052830</td>\n",
              "      <td>0.381953</td>\n",
              "      <td>0.583803</td>\n",
              "      <td>-0.367203</td>\n",
              "      <td>1</td>\n",
              "      <td>11.282042</td>\n",
              "      <td>0</td>\n",
              "      <td>...</td>\n",
              "      <td>0</td>\n",
              "      <td>0</td>\n",
              "      <td>0</td>\n",
              "      <td>1</td>\n",
              "      <td>0</td>\n",
              "      <td>0</td>\n",
              "      <td>0</td>\n",
              "      <td>0</td>\n",
              "      <td>0</td>\n",
              "      <td>0</td>\n",
              "    </tr>\n",
              "  </tbody>\n",
              "</table>\n",
              "<p>5 rows × 112 columns</p>\n",
              "</div>\n",
              "    <div class=\"colab-df-buttons\">\n",
              "\n",
              "  <div class=\"colab-df-container\">\n",
              "    <button class=\"colab-df-convert\" onclick=\"convertToInteractive('df-d7fde1ae-d413-4299-ad07-3ed5dbf3f476')\"\n",
              "            title=\"Convert this dataframe to an interactive table.\"\n",
              "            style=\"display:none;\">\n",
              "\n",
              "  <svg xmlns=\"http://www.w3.org/2000/svg\" height=\"24px\" viewBox=\"0 -960 960 960\">\n",
              "    <path d=\"M120-120v-720h720v720H120Zm60-500h600v-160H180v160Zm220 220h160v-160H400v160Zm0 220h160v-160H400v160ZM180-400h160v-160H180v160Zm440 0h160v-160H620v160ZM180-180h160v-160H180v160Zm440 0h160v-160H620v160Z\"/>\n",
              "  </svg>\n",
              "    </button>\n",
              "\n",
              "  <style>\n",
              "    .colab-df-container {\n",
              "      display:flex;\n",
              "      gap: 12px;\n",
              "    }\n",
              "\n",
              "    .colab-df-convert {\n",
              "      background-color: #E8F0FE;\n",
              "      border: none;\n",
              "      border-radius: 50%;\n",
              "      cursor: pointer;\n",
              "      display: none;\n",
              "      fill: #1967D2;\n",
              "      height: 32px;\n",
              "      padding: 0 0 0 0;\n",
              "      width: 32px;\n",
              "    }\n",
              "\n",
              "    .colab-df-convert:hover {\n",
              "      background-color: #E2EBFA;\n",
              "      box-shadow: 0px 1px 2px rgba(60, 64, 67, 0.3), 0px 1px 3px 1px rgba(60, 64, 67, 0.15);\n",
              "      fill: #174EA6;\n",
              "    }\n",
              "\n",
              "    .colab-df-buttons div {\n",
              "      margin-bottom: 4px;\n",
              "    }\n",
              "\n",
              "    [theme=dark] .colab-df-convert {\n",
              "      background-color: #3B4455;\n",
              "      fill: #D2E3FC;\n",
              "    }\n",
              "\n",
              "    [theme=dark] .colab-df-convert:hover {\n",
              "      background-color: #434B5C;\n",
              "      box-shadow: 0px 1px 3px 1px rgba(0, 0, 0, 0.15);\n",
              "      filter: drop-shadow(0px 1px 2px rgba(0, 0, 0, 0.3));\n",
              "      fill: #FFFFFF;\n",
              "    }\n",
              "  </style>\n",
              "\n",
              "    <script>\n",
              "      const buttonEl =\n",
              "        document.querySelector('#df-d7fde1ae-d413-4299-ad07-3ed5dbf3f476 button.colab-df-convert');\n",
              "      buttonEl.style.display =\n",
              "        google.colab.kernel.accessAllowed ? 'block' : 'none';\n",
              "\n",
              "      async function convertToInteractive(key) {\n",
              "        const element = document.querySelector('#df-d7fde1ae-d413-4299-ad07-3ed5dbf3f476');\n",
              "        const dataTable =\n",
              "          await google.colab.kernel.invokeFunction('convertToInteractive',\n",
              "                                                    [key], {});\n",
              "        if (!dataTable) return;\n",
              "\n",
              "        const docLinkHtml = 'Like what you see? Visit the ' +\n",
              "          '<a target=\"_blank\" href=https://colab.research.google.com/notebooks/data_table.ipynb>data table notebook</a>'\n",
              "          + ' to learn more about interactive tables.';\n",
              "        element.innerHTML = '';\n",
              "        dataTable['output_type'] = 'display_data';\n",
              "        await google.colab.output.renderOutput(dataTable, element);\n",
              "        const docLink = document.createElement('div');\n",
              "        docLink.innerHTML = docLinkHtml;\n",
              "        element.appendChild(docLink);\n",
              "      }\n",
              "    </script>\n",
              "  </div>\n",
              "\n",
              "\n",
              "<div id=\"df-62f42d2f-7f93-4c97-8c01-c89c5ed1e8e5\">\n",
              "  <button class=\"colab-df-quickchart\" onclick=\"quickchart('df-62f42d2f-7f93-4c97-8c01-c89c5ed1e8e5')\"\n",
              "            title=\"Suggest charts.\"\n",
              "            style=\"display:none;\">\n",
              "\n",
              "<svg xmlns=\"http://www.w3.org/2000/svg\" height=\"24px\"viewBox=\"0 0 24 24\"\n",
              "     width=\"24px\">\n",
              "    <g>\n",
              "        <path d=\"M19 3H5c-1.1 0-2 .9-2 2v14c0 1.1.9 2 2 2h14c1.1 0 2-.9 2-2V5c0-1.1-.9-2-2-2zM9 17H7v-7h2v7zm4 0h-2V7h2v10zm4 0h-2v-4h2v4z\"/>\n",
              "    </g>\n",
              "</svg>\n",
              "  </button>\n",
              "\n",
              "<style>\n",
              "  .colab-df-quickchart {\n",
              "    background-color: #E8F0FE;\n",
              "    border: none;\n",
              "    border-radius: 50%;\n",
              "    cursor: pointer;\n",
              "    display: none;\n",
              "    fill: #1967D2;\n",
              "    height: 32px;\n",
              "    padding: 0 0 0 0;\n",
              "    width: 32px;\n",
              "  }\n",
              "\n",
              "  .colab-df-quickchart:hover {\n",
              "    background-color: #E2EBFA;\n",
              "    box-shadow: 0px 1px 2px rgba(60, 64, 67, 0.3), 0px 1px 3px 1px rgba(60, 64, 67, 0.15);\n",
              "    fill: #174EA6;\n",
              "  }\n",
              "\n",
              "  [theme=dark] .colab-df-quickchart {\n",
              "    background-color: #3B4455;\n",
              "    fill: #D2E3FC;\n",
              "  }\n",
              "\n",
              "  [theme=dark] .colab-df-quickchart:hover {\n",
              "    background-color: #434B5C;\n",
              "    box-shadow: 0px 1px 3px 1px rgba(0, 0, 0, 0.15);\n",
              "    filter: drop-shadow(0px 1px 2px rgba(0, 0, 0, 0.3));\n",
              "    fill: #FFFFFF;\n",
              "  }\n",
              "</style>\n",
              "\n",
              "  <script>\n",
              "    async function quickchart(key) {\n",
              "      const charts = await google.colab.kernel.invokeFunction(\n",
              "          'suggestCharts', [key], {});\n",
              "    }\n",
              "    (() => {\n",
              "      let quickchartButtonEl =\n",
              "        document.querySelector('#df-62f42d2f-7f93-4c97-8c01-c89c5ed1e8e5 button');\n",
              "      quickchartButtonEl.style.display =\n",
              "        google.colab.kernel.accessAllowed ? 'block' : 'none';\n",
              "    })();\n",
              "  </script>\n",
              "</div>\n",
              "    </div>\n",
              "  </div>\n"
            ]
          },
          "metadata": {},
          "execution_count": 36
        }
      ]
    },
    {
      "cell_type": "code",
      "source": [
        "y[1]"
      ],
      "metadata": {
        "colab": {
          "base_uri": "https://localhost:8080/"
        },
        "id": "RQrTVVG7ouUU",
        "outputId": "9c9b69b3-d534-4343-ca35-72d896450b1d"
      },
      "execution_count": null,
      "outputs": [
        {
          "output_type": "execute_result",
          "data": {
            "text/plain": [
              "3098"
            ]
          },
          "metadata": {},
          "execution_count": 48
        }
      ]
    },
    {
      "cell_type": "code",
      "source": [
        "loaded_svr_model"
      ],
      "metadata": {
        "colab": {
          "base_uri": "https://localhost:8080/",
          "height": 175
        },
        "id": "u19X859fpw7t",
        "outputId": "435e3616-4f0e-4355-c82b-881cb3fce2bb"
      },
      "execution_count": null,
      "outputs": [
        {
          "output_type": "error",
          "ename": "TypeError",
          "evalue": "ignored",
          "traceback": [
            "\u001b[0;31m---------------------------------------------------------------------------\u001b[0m",
            "\u001b[0;31mTypeError\u001b[0m                                 Traceback (most recent call last)",
            "\u001b[0;32m<ipython-input-37-827462bc1113>\u001b[0m in \u001b[0;36m<cell line: 1>\u001b[0;34m()\u001b[0m\n\u001b[0;32m----> 1\u001b[0;31m \u001b[0mloaded_svr_model\u001b[0m\u001b[0;34m.\u001b[0m\u001b[0mfit\u001b[0m\u001b[0;34m(\u001b[0m\u001b[0mx\u001b[0m\u001b[0;34m)\u001b[0m\u001b[0;34m\u001b[0m\u001b[0;34m\u001b[0m\u001b[0m\n\u001b[0m",
            "\u001b[0;31mTypeError\u001b[0m: BaseLibSVM.fit() missing 1 required positional argument: 'y'"
          ]
        }
      ]
    },
    {
      "cell_type": "code",
      "source": [
        "\n",
        "explainer = shap.Explainer(best_models['XGBoost'], x)\n",
        "\n",
        "shap_values = explainer(x)\n",
        "\n",
        "shap.plots.waterfall(shap_values[1])"
      ],
      "metadata": {
        "colab": {
          "base_uri": "https://localhost:8080/",
          "height": 634
        },
        "id": "g275o4KtdI_f",
        "outputId": "51827ff5-114c-471e-bc1f-0a688aa04fc7"
      },
      "execution_count": null,
      "outputs": [
        {
          "output_type": "stream",
          "name": "stderr",
          "text": [
            " 96%|=================== | 2039/2123 [00:17<00:00]       "
          ]
        },
        {
          "output_type": "display_data",
          "data": {
            "text/plain": [
              "<Figure size 800x650 with 3 Axes>"
            ],
            "image/png": "[encoded data removed]"
          },
          "metadata": {}
        }
      ]
    },
    {
      "cell_type": "code",
      "source": [
        "shap.summary_plot(shap_values, x)"
      ],
      "metadata": {
        "colab": {
          "base_uri": "https://localhost:8080/",
          "height": 974
        },
        "id": "xkHIz9Ade_uv",
        "outputId": "aee676b2-0b11-4345-ec7c-a6585ec0bdf0"
      },
      "execution_count": null,
      "outputs": [
        {
          "output_type": "stream",
          "name": "stderr",
          "text": [
            "No data for colormapping provided via 'c'. Parameters 'vmin', 'vmax' will be ignored\n"
          ]
        },
        {
          "output_type": "display_data",
          "data": {
            "text/plain": [
              "<Figure size 800x950 with 2 Axes>"
            ],
            "image/png": "[encoded data removed]"
          },
          "metadata": {}
        }
      ]
    }
  ]
}